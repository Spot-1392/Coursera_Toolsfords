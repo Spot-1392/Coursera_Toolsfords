{
 "cells": [
  {
   "cell_type": "markdown",
   "id": "f73da844",
   "metadata": {},
   "source": [
    "<h1>My Jupyter Notebook on IBM Watson Studio<h1>"
   ]
  },
  {
   "cell_type": "markdown",
   "id": "ff5d6a86",
   "metadata": {},
   "source": [
    "<b>Francis Proaño</b>"
   ]
  },
  {
   "cell_type": "markdown",
   "id": "97e5bb8d",
   "metadata": {},
   "source": [
    "<i> I like data science because I can put into practice the knowledge I have acquired in academia and I can contribute significantly with the value of data. </i>"
   ]
  },
  {
   "cell_type": "markdown",
   "id": "a4ce19e8",
   "metadata": {},
   "source": [
    "<h3> The following code is used to raise the number 2 to the indicated power </h3>"
   ]
  },
  {
   "cell_type": "code",
   "execution_count": 4,
   "id": "a3354701",
   "metadata": {},
   "outputs": [
    {
     "data": {
      "text/plain": [
       "8"
      ]
     },
     "execution_count": 4,
     "metadata": {},
     "output_type": "execute_result"
    }
   ],
   "source": [
    "def powe(n):\n",
    "    return 2**n\n",
    "\n",
    "powe(3)"
   ]
  },
  {
   "cell_type": "markdown",
   "id": "8748625b",
   "metadata": {},
   "source": [
    "<ol>\n",
    "<li>Uno</li>\n",
    "<li>Dos</li>\n",
    "<li>Tres</li>\n",
    "</ol>\n",
    "\n",
    "<a> href=\"https://www.google.com\" >Buscador</a>\n",
    "\n",
    "| Col1 | Col2    | Col3 |\n",
    "|--- |----------| ------|\n",
    "| 1 | Uno |1 |\n",
    "| 2 | dos       |  2 |\n",
    "| 3 | Tres  | 3 |"
   ]
  }
 ],
 "metadata": {
  "kernelspec": {
   "display_name": "Python 3 (ipykernel)",
   "language": "python",
   "name": "python3"
  },
  "language_info": {
   "codemirror_mode": {
    "name": "ipython",
    "version": 3
   },
   "file_extension": ".py",
   "mimetype": "text/x-python",
   "name": "python",
   "nbconvert_exporter": "python",
   "pygments_lexer": "ipython3",
   "version": "3.9.7"
  }
 },
 "nbformat": 4,
 "nbformat_minor": 5
}
